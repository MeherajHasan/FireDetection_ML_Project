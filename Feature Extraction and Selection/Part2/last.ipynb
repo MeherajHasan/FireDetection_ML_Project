{
 "cells": [
  {
   "cell_type": "markdown",
   "id": "b25903c1",
   "metadata": {},
   "source": [
    "# Import Libraries and Models"
   ]
  },
  {
   "cell_type": "code",
   "execution_count": 1,
   "id": "a4f51035",
   "metadata": {},
   "outputs": [
    {
     "ename": "",
     "evalue": "",
     "output_type": "error",
     "traceback": [
      "\u001b[1;31mThe Kernel crashed while executing code in the current cell or a previous cell. \n",
      "\u001b[1;31mPlease review the code in the cell(s) to identify a possible cause of the failure. \n",
      "\u001b[1;31mClick <a href='https://aka.ms/vscodeJupyterKernelCrash'>here</a> for more info. \n",
      "\u001b[1;31mView Jupyter <a href='command:jupyter.viewOutput'>log</a> for further details."
     ]
    }
   ],
   "source": [
    "import os\n",
    "import cv2\n",
    "import numpy as np\n",
    "import pandas as pd\n",
    "import matplotlib.pyplot as plt\n",
    "from tqdm import tqdm\n",
    "import seaborn as sns\n",
    "import joblib\n",
    "from albumentations import Compose, Resize, HorizontalFlip, RandomBrightnessContrast, GaussNoise, CLAHE, HueSaturationValue\n",
    "\n",
    "\n",
    "from skimage.feature import local_binary_pattern\n",
    "from sklearn.feature_selection import SelectKBest, f_classif, RFE\n",
    "from sklearn.model_selection import train_test_split\n",
    "from sklearn.ensemble import RandomForestClassifier\n",
    "from sklearn.metrics import classification_report, confusion_matrix, accuracy_score\n",
    "\n",
    "from tensorflow.keras.applications import VGG16\n",
    "from tensorflow.keras.applications.vgg16 import preprocess_input\n",
    "from tensorflow.keras.preprocessing.image import img_to_array"
   ]
  },
  {
   "cell_type": "markdown",
   "id": "eb2ffe1e",
   "metadata": {},
   "source": [
    "# Image Augmentation Pipeline Definition"
   ]
  },
  {
   "cell_type": "code",
   "execution_count": null,
   "id": "f233af58",
   "metadata": {},
   "outputs": [],
   "source": [
    "augmentation_pipeline = Compose([\n",
    "    Resize(224, 224),\n",
    "    HorizontalFlip(p=0.5),\n",
    "    RandomBrightnessContrast(p=0.5),\n",
    "    CLAHE(p=0.3),\n",
    "    GaussNoise(p=0.2),\n",
    "    HueSaturationValue(p=0.3)\n",
    "])"
   ]
  },
  {
   "cell_type": "markdown",
   "id": "ebe86833",
   "metadata": {},
   "source": [
    "# Image Loading and Augmentation "
   ]
  },
  {
   "cell_type": "code",
   "execution_count": null,
   "id": "e95db13e",
   "metadata": {},
   "outputs": [],
   "source": [
    "def load_images_with_labels(base_path):\n",
    "    fire_dir = os.path.join(base_path, 'Train', 'Fire')  # Train/Fire directory\n",
    "    neutral_dir = os.path.join(base_path, 'Train', 'Neutral')  # Train/Neutral directory\n",
    "\n",
    "    data = []\n",
    "    labels = []\n",
    "\n",
    "    for label, folder in enumerate([neutral_dir, fire_dir]):  # 0: neutral, 1: fire\n",
    "        for filename in tqdm(os.listdir(folder), desc=f\"Loading {folder}\"):\n",
    "            file_path = os.path.join(folder, filename)\n",
    "            img = cv2.imread(file_path)\n",
    "            if img is not None:\n",
    "                augmented = augmentation_pipeline(image=img)\n",
    "                img_aug = augmented['image']\n",
    "                data.append(img_aug)\n",
    "                labels.append(label)\n",
    "\n",
    "    return np.array(data), np.array(labels)\n",
    "\n",
    "# Load and augment the data\n",
    "base_dataset_path = r\"D:\\OneDrive - American International University-Bangladesh\\SemesterVIII\\Final VIII\\Machine Learning\\FireDetectionFinal\\FireDatasetPCD\"\n",
    "X_images, y_labels = load_images_with_labels(base_dataset_path)"
   ]
  },
  {
   "cell_type": "markdown",
   "id": "a8926f2d",
   "metadata": {},
   "source": [
    "# Visualize Sample Augmented Images "
   ]
  },
  {
   "cell_type": "code",
   "execution_count": null,
   "id": "c8c499db",
   "metadata": {},
   "outputs": [],
   "source": [
    "def visualize_sample_images(images, labels, class_names=[\"Non-Fire\", \"Fire\"], samples=5):\n",
    "    plt.figure(figsize=(15, 4))\n",
    "    for i in range(samples):\n",
    "        idx = np.random.randint(0, len(images))\n",
    "        img = images[idx]\n",
    "        label = labels[idx]\n",
    "        plt.subplot(1, samples, i+1)\n",
    "        plt.imshow(cv2.cvtColor(img, cv2.COLOR_BGR2RGB))  # Convert BGR to RGB\n",
    "        plt.title(class_names[label])\n",
    "        plt.axis(\"off\")\n",
    "    plt.suptitle(\"Sample Augmented Images\")\n",
    "    plt.show()\n",
    "\n",
    "# Visualize sample images\n",
    "visualize_sample_images(X_images, y_labels)"
   ]
  },
  {
   "cell_type": "markdown",
   "id": "8e88776b",
   "metadata": {},
   "source": [
    "# Feature Extraction using HSV, LBP, and CNN (VGG16)\n"
   ]
  },
  {
   "cell_type": "code",
   "execution_count": null,
   "id": "8b282c22",
   "metadata": {},
   "outputs": [],
   "source": [
    "# Load pre-trained VGG16 model (excluding top layers)\n",
    "cnn_model = VGG16(weights='imagenet', include_top=False, input_shape=(224, 224, 3))\n",
    "\n",
    "def extract_hsv_histogram(image):\n",
    "    \"\"\"Extracts HSV histogram features from an image.\"\"\"\n",
    "    hsv = cv2.cvtColor(image, cv2.COLOR_BGR2HSV)\n",
    "    hist = cv2.calcHist([hsv], [0, 1, 2], None, [8, 8, 8], [0, 180, 0, 256, 0, 256])\n",
    "    hist = cv2.normalize(hist, hist).flatten()\n",
    "    return hist\n",
    "\n",
    "def extract_lbp_texture(image):\n",
    "    \"\"\"Extracts LBP (Local Binary Pattern) texture features from an image.\"\"\"\n",
    "    gray = cv2.cvtColor(image, cv2.COLOR_BGR2GRAY)\n",
    "    lbp = local_binary_pattern(gray, P=8, R=1, method='uniform')\n",
    "    (lbp_hist, _) = np.histogram(lbp.ravel(), bins=np.arange(0, 10), range=(0, 9))\n",
    "    lbp_hist = lbp_hist.astype(\"float\") / (lbp_hist.sum() + 1e-7)\n",
    "    return lbp_hist\n",
    "\n",
    "def extract_cnn_features(image):\n",
    "    \"\"\"Extracts CNN features from an image using the VGG16 model.\"\"\"\n",
    "    image_rgb = cv2.cvtColor(image, cv2.COLOR_BGR2RGB)\n",
    "    img_array = img_to_array(image_rgb)\n",
    "    img_array = np.expand_dims(img_array, axis=0)\n",
    "    img_array = preprocess_input(img_array)\n",
    "    features = cnn_model.predict(img_array, verbose=0)\n",
    "    return features.flatten()\n",
    "\n",
    "def extract_all_features_batch(images):\n",
    "    \"\"\"Extracts all features (color, texture, CNN) for a batch of images.\"\"\"\n",
    "    all_features = []\n",
    "    for img in tqdm(images, desc=\"Extracting features\"):\n",
    "        color_feat = extract_hsv_histogram(img)\n",
    "        texture_feat = extract_lbp_texture(img)\n",
    "        cnn_feat = extract_cnn_features(img)\n",
    "        combined = np.concatenate([color_feat, texture_feat, cnn_feat])\n",
    "        all_features.append(combined)\n",
    "    return np.array(all_features)\n",
    "\n",
    "# Extract features from the dataset\n",
    "X_features = extract_all_features_batch(X_images)\n"
   ]
  },
  {
   "cell_type": "markdown",
   "id": "17510308",
   "metadata": {},
   "source": [
    "# Visualizing Extracted Feature Vectors Distribution\n"
   ]
  },
  {
   "cell_type": "code",
   "execution_count": null,
   "id": "549de708",
   "metadata": {},
   "outputs": [],
   "source": [
    "# Feature shape inspection\n",
    "print(\"Feature shape per image:\", X_features.shape)\n",
    "\n",
    "# Visualize feature vector distribution for a few samples\n",
    "plt.figure(figsize=(12, 4))\n",
    "for i in range(3):\n",
    "    plt.plot(X_features[i], label=f\"Image {i}\")\n",
    "plt.title(\"Extracted Feature Vectors\")\n",
    "plt.xlabel(\"Feature Index\")\n",
    "plt.ylabel(\"Feature Value\")\n",
    "plt.legend()\n",
    "plt.show()"
   ]
  },
  {
   "cell_type": "markdown",
   "id": "80f1bc28",
   "metadata": {},
   "source": [
    "# Feature Selection Using SelectKBest or RFE & Saving the Selector\n"
   ]
  },
  {
   "cell_type": "code",
   "execution_count": null,
   "id": "dc2e762d",
   "metadata": {},
   "outputs": [],
   "source": [
    "# Directory to save feature selector\n",
    "output_dir = r\"D:\\OneDrive - American International University-Bangladesh\\SemesterVIII\\Final VIII\\Machine Learning\\FireDetectionFinal\"\n",
    "selector_save_path = os.path.join(output_dir, \"feature_selector.pkl\")\n",
    "\n",
    "def select_features_filter(X, y, k=300):\n",
    "    selector = SelectKBest(score_func=f_classif, k=k)\n",
    "    X_selected = selector.fit_transform(X, y)\n",
    "    print(f\"[SelectKBest] Selected {X_selected.shape[1]} features.\")\n",
    "    return X_selected, selector\n",
    "\n",
    "def select_features_rfe(X, y, k=300):\n",
    "    estimator = RandomForestClassifier(n_estimators=100, random_state=42, n_jobs=-1)\n",
    "    selector = RFE(estimator, n_features_to_select=k, step=50, verbose=1)\n",
    "    X_selected = selector.fit_transform(X, y)\n",
    "    print(f\"[RFE] Selected {X_selected.shape[1]} features.\")\n",
    "    return X_selected, selector\n",
    "\n",
    "# Toggle method here\n",
    "use_rfe = True\n",
    "\n",
    "if use_rfe:\n",
    "    X_selected, feature_selector = select_features_rfe(X_features, y_labels, k=300)\n",
    "else:\n",
    "    X_selected, feature_selector = select_features_filter(X_features, y_labels, k=300)\n",
    "\n",
    "# Save the selector for reuse\n",
    "joblib.dump(feature_selector, selector_save_path)\n",
    "print(f\"Feature selector saved at: {selector_save_path}\")"
   ]
  },
  {
   "cell_type": "markdown",
   "id": "5af76fa6",
   "metadata": {},
   "source": [
    "# Visualizing Top 30 Feature Importances Using RFE with RandomForestClassifier\n"
   ]
  },
  {
   "cell_type": "code",
   "execution_count": null,
   "id": "914a6cd2",
   "metadata": {},
   "outputs": [],
   "source": [
    "# Only valid if using RFE with RandomForestClassifier\n",
    "if hasattr(feature_selector, \"estimator_\") and hasattr(feature_selector.estimator_, \"feature_importances_\"):\n",
    "    selected_indices = feature_selector.get_support(indices=True)\n",
    "    selected_importances = feature_selector.estimator_.feature_importances_\n",
    "\n",
    "    # Map original feature index to importance\n",
    "    importance_dict = {idx: imp for idx, imp in zip(selected_indices, selected_importances)}\n",
    "    sorted_items = sorted(importance_dict.items(), key=lambda x: x[1], reverse=True)\n",
    "    top_k = sorted_items[:30]  # Top 30 features\n",
    "\n",
    "    # Data for plotting\n",
    "    feature_ids = [idx for idx, _ in top_k]\n",
    "    importances = [imp for _, imp in top_k]\n",
    "\n",
    "    # Plot\n",
    "    plt.figure(figsize=(12, 4))\n",
    "    plt.bar(range(len(feature_ids)), importances, tick_label=feature_ids)\n",
    "    plt.title(\"Top 30 Selected Feature Importances (RFE)\")\n",
    "    plt.xlabel(\"Original Feature Index\")\n",
    "    plt.ylabel(\"Importance Score\")\n",
    "    plt.xticks(rotation=90)\n",
    "    plt.grid(True)\n",
    "    plt.tight_layout()\n",
    "    plt.show()\n",
    "else:\n",
    "    print(\"Feature importances not available. Ensure you're using RFE with a RandomForestClassifier.\")\n"
   ]
  },
  {
   "cell_type": "markdown",
   "id": "342e4b41",
   "metadata": {},
   "source": [
    "# Model Training, Evaluation, and Confusion Matrix \n"
   ]
  },
  {
   "cell_type": "code",
   "execution_count": null,
   "id": "cf28aa66",
   "metadata": {},
   "outputs": [],
   "source": [
    "# Split the data\n",
    "X_train, X_test, y_train, y_test = train_test_split(\n",
    "    X_selected, y_labels, test_size=0.2, random_state=42, stratify=y_labels\n",
    ")\n",
    "\n",
    "# Train the model\n",
    "clf = RandomForestClassifier(n_estimators=100, random_state=42)\n",
    "clf.fit(X_train, y_train)\n",
    "\n",
    "# Predict\n",
    "y_pred = clf.predict(X_test)\n",
    "\n",
    "# Evaluate\n",
    "acc = accuracy_score(y_test, y_pred)\n",
    "print(f\"Accuracy: {100*acc:.2f}%\")\n",
    "print(\"\\nClassification Report:\")\n",
    "print(classification_report(y_test, y_pred, target_names=[\"Neutral\", \"Fire\"]))\n",
    "\n",
    "# Confusion matrix\n",
    "cm = confusion_matrix(y_test, y_pred)\n",
    "plt.figure(figsize=(6, 5))\n",
    "sns.heatmap(cm, annot=True, fmt='d', cmap='Blues',\n",
    "            xticklabels=[\"Neutral\", \"Fire\"],\n",
    "            yticklabels=[\"Neutral\", \"Fire\"])\n",
    "plt.xlabel(\"Predicted Label\")\n",
    "plt.ylabel(\"True Label\")\n",
    "plt.title(\"Confusion Matrix (Fire vs Neutral)\")\n",
    "plt.tight_layout()\n",
    "plt.show()"
   ]
  },
  {
   "cell_type": "markdown",
   "id": "ba62a3dd",
   "metadata": {},
   "source": [
    "# Model Performance Visualization"
   ]
  },
  {
   "cell_type": "code",
   "execution_count": null,
   "id": "f75ca266",
   "metadata": {},
   "outputs": [],
   "source": [
    "from sklearn.metrics import roc_curve, auc\n",
    "\n",
    "fpr, tpr, _ = roc_curve(y_test, clf.predict_proba(X_test)[:, 1])\n",
    "roc_auc = auc(fpr, tpr)\n",
    "\n",
    "plt.figure(figsize=(6, 5))\n",
    "plt.plot(fpr, tpr, color='blue', lw=2, label=f'ROC curve (area = {roc_auc:.2f})')\n",
    "plt.plot([0, 1], [0, 1], color='gray', lw=2, linestyle='--')\n",
    "plt.xlim([0.0, 1.0])\n",
    "plt.ylim([0.0, 1.05])\n",
    "plt.xlabel('False Positive Rate')\n",
    "plt.ylabel('True Positive Rate')\n",
    "plt.title('Receiver Operating Characteristic (ROC)')\n",
    "plt.legend(loc=\"lower right\")\n",
    "plt.show()"
   ]
  },
  {
   "cell_type": "markdown",
   "id": "4c76bcbf",
   "metadata": {},
   "source": [
    "# Model Saving"
   ]
  },
  {
   "cell_type": "code",
   "execution_count": null,
   "id": "007edea2",
   "metadata": {},
   "outputs": [],
   "source": [
    "model_save_path = \"random_forest_fire_detection_model.pkl\"\n",
    "joblib.dump(clf, model_save_path)\n",
    "print(f\"Model saved to {model_save_path}\")\n"
   ]
  },
  {
   "cell_type": "markdown",
   "id": "b87198c7",
   "metadata": {},
   "source": [
    "# Cross Validation"
   ]
  },
  {
   "cell_type": "code",
   "execution_count": null,
   "id": "79fca5e8",
   "metadata": {},
   "outputs": [],
   "source": [
    "from sklearn.model_selection import cross_val_score\n",
    "\n",
    "cv_scores = cross_val_score(clf, X_selected, y_labels, cv=5)\n",
    "print(f\"Cross-validation scores: {cv_scores}\")\n",
    "print(f\"Mean CV score: {cv_scores.mean():.4f}\")\n"
   ]
  }
 ],
 "metadata": {
  "kernelspec": {
   "display_name": "ML_env",
   "language": "python",
   "name": "python3"
  },
  "language_info": {
   "codemirror_mode": {
    "name": "ipython",
    "version": 3
   },
   "file_extension": ".py",
   "mimetype": "text/x-python",
   "name": "python",
   "nbconvert_exporter": "python",
   "pygments_lexer": "ipython3",
   "version": "3.10.16"
  }
 },
 "nbformat": 4,
 "nbformat_minor": 5
}
